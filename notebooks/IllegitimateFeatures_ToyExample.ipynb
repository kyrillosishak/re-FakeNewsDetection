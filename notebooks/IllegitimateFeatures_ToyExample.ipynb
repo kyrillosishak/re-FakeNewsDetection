{
  "cells": [
    {
      "cell_type": "markdown",
      "metadata": {
        "id": "view-in-github",
        "colab_type": "text"
      },
      "source": [
        "<a href=\"https://colab.research.google.com/github/kyrillosishak/re-FakeNewsDetection/blob/main/notebooks/IllegitimateFeatures_ToyExample.ipynb\" target=\"_parent\"><img src=\"https://colab.research.google.com/assets/colab-badge.svg\" alt=\"Open In Colab\"/></a>"
      ]
    },
    {
      "cell_type": "markdown",
      "metadata": {
        "id": "8d5d576d-3f39-469f-b517-001bb187db13"
      },
      "source": [
        "## Using a feature that is a proxy for target variable, that will not be available at inference time"
      ],
      "id": "8d5d576d-3f39-469f-b517-001bb187db13"
    },
    {
      "cell_type": "markdown",
      "metadata": {
        "id": "cf4b53f7-d0bd-43b4-b949-48399946715d"
      },
      "source": [
        "One specific form of data leakage involves selecting features that directly influence the target variable, thereby giving the model access to information it would not have in a real-world scenario. For example, if a feature is chosen based on its direct correlation with the target variable—perhaps through data that includes future outcomes or results—this feature will unfairly boost the model’s accuracy during training. When the model is evaluated on unseen data, it may not perform as well because it has been trained with features that directly reveal the target variable. This scenario creates an unrealistic impression of the model’s capabilities and can lead to misleading conclusions about its effectiveness, ultimately compromising its reliability and generalization to new, real-world data."
      ],
      "id": "cf4b53f7-d0bd-43b4-b949-48399946715d"
    },
    {
      "cell_type": "markdown",
      "metadata": {
        "id": "6eae62c9-1e5c-4210-a632-ed30a0f25b79"
      },
      "source": [
        "### Consider this example:"
      ],
      "id": "6eae62c9-1e5c-4210-a632-ed30a0f25b79"
    },
    {
      "cell_type": "markdown",
      "metadata": {
        "id": "e8bc4e23-8db6-45fa-8b04-409db59d1daf"
      },
      "source": [
        "<img src=\"https://github.com/kyrillosishak/re-FakeNewsDetection/raw/main/assets/features.png\" height=130>\n",
        "\n",
        "If the feature `took_antibiotic_medicine` is updated based on whether a patient had pneumonia `got_pneumonia`, it creates target leakage. This is because the model learns that if took_antibiotic_medicine is False, the patient didn’t have pneumonia. During validation, this pattern repeats, leading to misleadingly high performance. However, in real-world scenarios, predictions are made before knowing if a patient has received antibiotics, leading to poor model accuracy. To avoid this, exclude features updated or created after the target variable is known.\n",
        "\n",
        "*To illustrate the problem we are considering `Credit Card Data from book \"Econometric Analysis\"` Dataset from Kaggle, it has this features:* \\* `card`: Dummy variable, 1 if application for credit card accepted, 0 if not reports: Number of major derogatory reports \\* `age`: Age n years plus twelfths of a year \\* `income`: Yearly income (divided by 10,000) \\* `share`: Ratio of monthly credit card expenditure to yearly income \\* `expenditure`: Average monthly credit card expenditure \\* `owner`: 1 if owns their home, 0 if rent \\* `selfempl`: 1 if self employed, 0 if not. \\* `dependents`: 1 + number of dependents \\* `months`: Months living at current address \\* `majorcards`: Number of major credit cards held \\* `active`: Number of active credit accounts\n",
        "\n",
        "The feature `expenditure` is ambiguous: it is unclear whether it refers to spending on the current credit card application or on other cards used before applying.\n",
        "\n",
        "To investigate this, we conduct the following experiment:\n",
        "\n",
        "``` python\n",
        "expenditures_cardholders = X.expenditure[y]\n",
        "expenditures_noncardholders = X.expenditure[~y]\n",
        "\n",
        "print('Fraction of those who did not receive a card and had no expenditures: %.2f' \\\n",
        "      %((expenditures_noncardholders == 0).mean()))\n",
        "print('Fraction of those who received a card and had no expenditures: %.2f' \\\n",
        "      %(( expenditures_cardholders == 0).mean()))\n",
        "```\n",
        "\n",
        "The results show that all individuals who did not receive a card had no expenditures, while only 2% of cardholders had no expenditures. This suggests that expenditure likely refers to spending on the card applied for, indicating potential target leakage.\n",
        "\n",
        "Since share is derived from expenditure, it should also be excluded to prevent leakage from influencing the model."
      ],
      "id": "e8bc4e23-8db6-45fa-8b04-409db59d1daf"
    },
    {
      "cell_type": "code",
      "execution_count": null,
      "metadata": {
        "id": "be4e1913-04fc-40a6-81fd-d1d76667be2b"
      },
      "outputs": [],
      "source": [
        "!wget -q https://github.com/kyrillosishak/re-FakeNewsDetection/raw/main/data/CreditCardDatafrombook%22EconometricAnalysis%22.zip\n",
        "!unzip -q \"/content/CreditCardDatafrombook\\\"EconometricAnalysis\\\".zip\""
      ],
      "id": "be4e1913-04fc-40a6-81fd-d1d76667be2b"
    },
    {
      "cell_type": "code",
      "execution_count": null,
      "metadata": {
        "id": "38f37d40-922b-4e31-9e41-7d8b63007b38"
      },
      "outputs": [],
      "source": [
        "import pandas as pd\n",
        "from sklearn.pipeline import make_pipeline\n",
        "from sklearn.ensemble import RandomForestClassifier\n",
        "from sklearn.model_selection import cross_val_score\n",
        "\n",
        "# Read the data\n",
        "data = pd.read_csv('AER_credit_card_data.csv', true_values = ['yes'], false_values = ['no'])\n",
        "# Select target\n",
        "y = data.card\n",
        "# Select predictors\n",
        "X = data.drop(['card'], axis=1)\n",
        "\n",
        "rf = RandomForestClassifier(n_estimators=100)\n",
        "cv_scores = cross_val_score(rf, X, y, cv=5, scoring='accuracy')\n",
        "\n",
        "print(\"Cross-validation accuracy (Data Leakage):\", cv_scores.mean()*100)\n",
        "\n",
        "# Drop leaky predictors from dataset\n",
        "potential_leaks = ['expenditure', 'share']\n",
        "X2 = X.drop(potential_leaks, axis=1)\n",
        "\n",
        "# Evaluate the model with leaky predictors removed\n",
        "cv_scores = cross_val_score(rf, X2, y, cv=5, scoring='accuracy')\n",
        "print(\"Cross-validation accuracy (without Data Leakage):\", cv_scores.mean()*100)"
      ],
      "id": "38f37d40-922b-4e31-9e41-7d8b63007b38"
    },
    {
      "cell_type": "markdown",
      "metadata": {
        "id": "1d79e6bd-18b1-4b6d-ab0b-a568f660242c"
      },
      "source": [
        "This analysis demonstrates the impact of data leakage on model performance. Initially, a machine learning model is trained using all available features, including those that are likely to cause leakage such as `expenditure` and `share`. The model achieves an impressive accuracy of over 98% during cross-validation, but this high accuracy is misleading because it includes information that wouldn’t be available in a real-world scenario. By excluding these leaky predictors, which are derived from the target variable or are closely related to it, the model’s cross-validation accuracy drops to around 84%. This significant decrease highlights how the model was initially overfitting to information that wouldn’t be accessible at the time of prediction."
      ],
      "id": "1d79e6bd-18b1-4b6d-ab0b-a568f660242c"
    }
  ],
  "nbformat": 4,
  "nbformat_minor": 5,
  "metadata": {
    "colab": {
      "provenance": [],
      "include_colab_link": true
    }
  }
}