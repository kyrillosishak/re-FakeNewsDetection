{
  "cells": [
    {
      "cell_type": "markdown",
      "metadata": {
        "id": "view-in-github",
        "colab_type": "text"
      },
      "source": [
        "<a href=\"https://colab.research.google.com/github/kyrillosishak/re-FakeNewsDetection/blob/main/notebooks/TFIDF_ToyExample.ipynb\" target=\"_parent\"><img src=\"https://colab.research.google.com/assets/colab-badge.svg\" alt=\"Open In Colab\"/></a>"
      ]
    },
    {
      "cell_type": "markdown",
      "metadata": {
        "id": "ede65bea-848c-4237-8a44-76a1d2df97e5"
      },
      "source": [
        "# Toy Example"
      ],
      "id": "ede65bea-848c-4237-8a44-76a1d2df97e5"
    },
    {
      "cell_type": "markdown",
      "metadata": {
        "id": "1cda63e3-3dff-48fa-9817-6dca4be338b8"
      },
      "source": [
        "## Introduction"
      ],
      "id": "1cda63e3-3dff-48fa-9817-6dca4be338b8"
    },
    {
      "cell_type": "markdown",
      "metadata": {
        "id": "b4f7e1da-8b1a-41aa-9b2b-70f3b3ff15fd"
      },
      "source": [
        "In machine learning, ensuring that models generalize well to unseen data is paramount. However, a subtle yet pervasive issue known as data leakage can severely compromise this goal. Data leakage occurs when information from outside the training dataset slips into the model, artificially boosting performance during evaluation. This can lead to overly optimistic results that fail in real-world scenarios. Among the various forms of data leakage, feature selection is particularly insidious, as it can occur at multiple stages of the machine learning pipeline and often goes unnoticed.\n",
        "\n",
        "✨ The objective of this notebook is to:\n",
        "\n",
        "-   Understand the concept of data leakage, with a focus on feature selection. Examine three specific cases:\n",
        "\n",
        "    -   Feature selection by TF-IDF before splitting data.\n",
        "    -   Random splitting of temporal data leading to temporal leakage.\n",
        "    -   Target data leakage caused by selecting features that illegitimately influence the target variable.\n",
        "\n",
        "-   Illustrate these concepts with synthetic and real-world examples.\n",
        "\n",
        "-   Train machine learning models and evaluate their performance, highlighting the impact of these types of data leakage.\n",
        "\n",
        "-   Critically analyze how different types of feature selection data leakage can affect model outcomes.\n",
        "\n",
        "🔍 In this notebook, we will explore:\n",
        "\n",
        "-   A synthetic data example to demonstrate feature selection before data splitting.\n",
        "-   An analysis of temporal leakage due to random splitting in temporal datasets.\n",
        "-   An investigation into target data leakage with a focus on illegitimate features.\n",
        "\n",
        "------------------------------------------------------------------------"
      ],
      "id": "b4f7e1da-8b1a-41aa-9b2b-70f3b3ff15fd"
    },
    {
      "cell_type": "markdown",
      "metadata": {
        "id": "3e296f3d-410e-4048-9f23-c090a464e7b7"
      },
      "source": [
        "## Feature extraction using TF-IDF vectorizer"
      ],
      "id": "3e296f3d-410e-4048-9f23-c090a464e7b7"
    },
    {
      "cell_type": "markdown",
      "metadata": {
        "id": "4a4bc576-377c-4574-9c99-3c5af8cd7115"
      },
      "source": [
        "### What is TF-IDF?"
      ],
      "id": "4a4bc576-377c-4574-9c99-3c5af8cd7115"
    },
    {
      "cell_type": "markdown",
      "metadata": {
        "id": "22947362-f797-46d9-a78d-6b2216d44df1"
      },
      "source": [
        "TF-IDF stands for **Term Frequency-Inverse Document Frequency**. It is a numerical statistic that is intended to reflect how important a word is to a document in a collection or corpus. The TF-IDF score is composed of two parts:\n",
        "\n",
        "-   Term Frequency (TF): This measures how frequently a term appears in a document. The term frequency of a term `t` in a document `d` is given by:\n",
        "\n",
        "    $TF(t,d) = \\frac{\\text{Number of times term } t \\text{ appears in document } d}{\\text{Total number of terms in document } d}$\n",
        "\n",
        "-   Inverse Document Frequency (IDF): This measures how important a term is. While computing TF, all terms are considered equally important. IDF, on the other hand, decreases the weight of terms that appear very frequently in the document set and increases the weight of terms that appear rarely. The IDF of a term `t` is given by:\n",
        "\n",
        "    $IDF(t,D) = \\log{(\\frac{\\text{Total number of documents } (N)}{\\text{Number of documents with term t in it+1 }})}$\n",
        "\n",
        "    *The addition of 1 to the denominator is to prevent division by zero.*\n",
        "\n",
        "-   The TF-IDF score for a term `t` in a document `d` is then calculated as:\n",
        "\n",
        "    $TF-IDF(t,d,D) = TF(t,d)×IDF(t,D)$\n",
        "\n",
        "*Consider `D` is total dataset (e.g. X) and `d` is an entry in the dataset (e.g. X\\[0\\])*"
      ],
      "id": "22947362-f797-46d9-a78d-6b2216d44df1"
    },
    {
      "cell_type": "markdown",
      "metadata": {
        "id": "8b1bf83f-6d7e-4d6e-bb78-9de8e813196e"
      },
      "source": [
        "### What can cause Data Leakage?"
      ],
      "id": "8b1bf83f-6d7e-4d6e-bb78-9de8e813196e"
    },
    {
      "cell_type": "markdown",
      "metadata": {
        "id": "39e0f385-8f2e-4820-9001-593a6b436957"
      },
      "source": [
        "Data leakage refers to the situation where information from outside the training dataset is used to create the model. This leads to wrong performance estimates and poor generalization to new data.\n",
        "\n",
        "This can happen when TF-IDF is computed on the entire dataset before splitting it into training and testing sets"
      ],
      "id": "39e0f385-8f2e-4820-9001-593a6b436957"
    },
    {
      "cell_type": "markdown",
      "metadata": {
        "id": "b74d83d2-16da-47c0-9e1d-26d37fe8ffa1"
      },
      "source": [
        "### Why Does This Cause Data Leakage?"
      ],
      "id": "b74d83d2-16da-47c0-9e1d-26d37fe8ffa1"
    },
    {
      "cell_type": "markdown",
      "metadata": {
        "id": "1e42ffe0-579f-4002-b0e2-6f5a172a5605"
      },
      "source": [
        "-   The IDF part of TF-IDF takes into account the frequency of terms across all documents in the dataset. If you compute IDF using the entire dataset, the resulting IDF values will be influenced by the documents that end up in the test set. This means that information from the test set leaks into the training process, giving the model a peek into the test data distribution. The model might perform well in cross-validation or on the training set but fail to generalize to truly unseen data.\n",
        "\n",
        "-   When you split the dataset after computing TF-IDF, both the training and test sets will share the same IDF values, which are based on the entire dataset. However, in a real-world scenario, the test data is unknown during the training phase, and its distribution might be different from the training data. By using IDF values that include test data, you’re effectively giving your model information it shouldn’t have during training."
      ],
      "id": "1e42ffe0-579f-4002-b0e2-6f5a172a5605"
    },
    {
      "cell_type": "markdown",
      "metadata": {
        "id": "14a0322f-9311-4da6-8483-aac363c256b1"
      },
      "source": [
        "### Explaining data leakage"
      ],
      "id": "14a0322f-9311-4da6-8483-aac363c256b1"
    },
    {
      "cell_type": "markdown",
      "metadata": {
        "id": "3fb50f04-2018-42f8-a35e-0f7d6e6d5a8b"
      },
      "source": [
        "#### How TF-IDF Reduces the Importance of Common Words\n",
        "\n",
        "TF-IDF reduces the importance of words that are common across many documents:\n",
        "\n",
        "-   **High Document Frequency:** When a word appears frequently across different documents in a dataset, its document frequency (DF) increases. This results in a lower IDF score.\n",
        "-   **Lower TF-IDF Score:** The multiplication of TF (high for common words within a document) and IDF (low for common words across documents) results in a lower TF-IDF score for these words. Thus, common words like “the”, “is”, and “and” are assigned lower importance because they do not provide meaningful information to differentiate between documents.\n",
        "\n",
        "#### Effect of Data Leakage on TF-IDF\n",
        "\n",
        "Data leakage can occur if the TF-IDF feature extraction process uses information from the test set during training, improperly influencing the IDF calculation. This leads to a biased assessment of word importance and can impact model performance :\n",
        "\n",
        "1.  Word is Less Frequent in the Training Set and More Frequent in the Test Set:\n",
        "\n",
        "-   **Effect of Data Leakage:** If the TF-IDF calculation mistakenly includes test set data, the IDF for this word will be lower than it should be, as the word appears more frequently in the test set.\n",
        "-   **Impact on Model:** The model will de-emphasize the word during training, assigning it a lower TF-IDF score. When this word appears frequently in the test set, the model might fail to recognize its significance, leading to poor predictions.\n",
        "\n",
        "**Illustration:** Consider the word “innovation” that is rare in the training set but common in the test set. Due to data leakage, the IDF calculated during training would reflect the high frequency of “innovation” in the test set, reducing its importance. As a result, the model might not predict well for test documents where “innovation” is actually a critical term.\n",
        "\n",
        "1.  Word is More Frequent in the Training Set and Less Frequent in the Test Set:\n",
        "\n",
        "-   **Effect of Data Leakage:** The TF-IDF model might overestimate the importance of this word during training if the test set is improperly included in the IDF calculation.\n",
        "-   **Impact on Model:** The model will emphasize this word too much, increasing its TF-IDF score in training. When the test set rarely contains this word, the model might perform poorly as it over-relies on a feature that is not prevalent in unseen data.\n",
        "\n",
        "**Illustration:** Imagine the word “reliable” is common in the training set but rare in the test set. Due to data leakage, the IDF value calculated might overemphasize “reliable,” making the model overly dependent on it. When this word doesn’t appear as often in the test set, the model’s predictions may degrade."
      ],
      "id": "3fb50f04-2018-42f8-a35e-0f7d6e6d5a8b"
    },
    {
      "cell_type": "markdown",
      "metadata": {
        "id": "e7a662e6-25e1-4061-a9d2-b376b92cdbb8"
      },
      "source": [
        "### Exploring the behavior of the data leakage"
      ],
      "id": "e7a662e6-25e1-4061-a9d2-b376b92cdbb8"
    },
    {
      "cell_type": "markdown",
      "metadata": {
        "id": "ec75c554-29eb-46f1-9360-434a71d8151d"
      },
      "source": [
        "In this 2 example, we explore the effect of data leakage on the TF-IDF feature extraction process using a simple text classification task. The dataset consists of a small training set (`train_docs`) and a test set (`test_docs`). We are particularly interested in understanding how the TF-IDF scores for the word “banana” differ when there is data leakage versus when there is no data leakage. We designated “banana” as an important word for labeling (label 1 : if “banana” exist in sentence, label 0 : if “banana” does not exist)"
      ],
      "id": "ec75c554-29eb-46f1-9360-434a71d8151d"
    },
    {
      "cell_type": "code",
      "execution_count": null,
      "metadata": {
        "id": "e7d43c8f-4a10-45fc-b92a-154bbd74b4cd"
      },
      "outputs": [],
      "source": [
        "# Function to print TF-IDF scores for a specific word\n",
        "def print_tfidf_scores(word, vectorizer, train_tfidf, test_tfidf):\n",
        "    word_index = vectorizer.vocabulary_.get(word)\n",
        "    if word_index is not None:\n",
        "        print(f\"TF-IDF scores for '{word}':\")\n",
        "        print(\"Training set:\\t\", train_tfidf[:, word_index].toarray().flatten())\n",
        "        print(\"Test set:\\t\", test_tfidf[:, word_index].toarray().flatten())\n",
        "    else:\n",
        "        print(f\"Word '{word}' not found in vocabulary.\")\n"
      ],
      "id": "e7d43c8f-4a10-45fc-b92a-154bbd74b4cd"
    },
    {
      "cell_type": "markdown",
      "metadata": {
        "id": "6c1da7bb-983a-4d2e-a4a4-2f0c31a976b5"
      },
      "source": [
        "#### Case 1 : Word is Less Frequent in the Training Set and More Frequent in the Test Set"
      ],
      "id": "6c1da7bb-983a-4d2e-a4a4-2f0c31a976b5"
    },
    {
      "cell_type": "code",
      "execution_count": null,
      "metadata": {
        "id": "93070e9b-ce9e-44c7-9f40-96282aef11a9"
      },
      "outputs": [],
      "source": [
        "from sklearn.feature_extraction.text import TfidfVectorizer\n",
        "from sklearn.model_selection import train_test_split\n",
        "import numpy as np\n",
        "train_docs = ['apple apple apple',\n",
        " 'orange orange orange',\n",
        " 'banana orange apple',\n",
        " 'apple orange orange']\n",
        "\n",
        "train_labels = [0, 0, 1, 0]\n",
        "test_docs = ['apple banana banana', 'apple apple banana', 'banana banana orange']\n",
        "test_labels = [1, 1, 1]\n",
        "\n",
        "# Initialize the TF-IDF vectorizer\n",
        "vectorizer_with_leakage = TfidfVectorizer()\n",
        "vectorizer_without_leakage = TfidfVectorizer()\n",
        "\n",
        "\n",
        "X_combined = vectorizer_with_leakage.fit_transform(train_docs + test_docs)\n",
        "\n",
        "# Transform the training and test sets separately\n",
        "X_train_leakage = X_combined[:len(train_docs)]\n",
        "X_test_leakage = X_combined[len(train_docs):]\n",
        "\n",
        "# Fit the vectorizer without data leakage (fit on training set only)\n",
        "vectorizer_without_leakage.fit(train_docs)\n",
        "X_train_without_leakage = vectorizer_without_leakage.transform(train_docs)\n",
        "X_test_without_leakage = vectorizer_without_leakage.transform(test_docs)\n",
        "\n",
        "\n",
        "# Compare the TF-IDF scores for the word 'banana' with and without data leakage\n",
        "print(\"With Data Leakage:\")\n",
        "print_tfidf_scores('banana', vectorizer_with_leakage, X_train_leakage, X_test_leakage)\n",
        "\n",
        "from sklearn.neighbors import KNeighborsClassifier\n",
        "clf = KNeighborsClassifier(n_neighbors=1)\n",
        "clf.fit(X_train_leakage, train_labels)\n",
        "preds = clf.predict(X_test_leakage)\n",
        "dist, idx = clf.kneighbors(X_test_leakage)\n",
        "print(\"predictions: \", preds)\n",
        "print(\"True labels: \", np.array(test_labels))\n",
        "print(f\"Accuracy:  {np.mean(preds == np.array(test_labels))*100}%\")\n",
        "\n",
        "print(\"\\nWithout Data Leakage:\")\n",
        "print_tfidf_scores('banana', vectorizer_without_leakage, X_train_without_leakage, X_test_without_leakage)\n",
        "\n",
        "clf = KNeighborsClassifier(n_neighbors=1)\n",
        "clf.fit(X_train_without_leakage, train_labels)\n",
        "preds = clf.predict(X_test_without_leakage)\n",
        "dist, idx = clf.kneighbors(X_test_without_leakage)\n",
        "print(\"predictions: \", preds)\n",
        "print(\"True labels: \", np.array(test_labels))\n",
        "print(f\"Accuracy:  {np.mean(preds == np.array(test_labels))*100}%\")"
      ],
      "id": "93070e9b-ce9e-44c7-9f40-96282aef11a9"
    },
    {
      "cell_type": "markdown",
      "metadata": {
        "id": "f96ab4a9-43e5-4296-a675-f9586d2cba92"
      },
      "source": [
        "##### Analysis of the Results\n",
        "\n",
        "1.  With Data Leakage:\n",
        "\n",
        "-   **Training Set Scores:** Scores of “banana” across all train set (`[0.0,0.0,0.0.60113188,0.0]`)\n",
        "\n",
        "-   **Test Set Scores:** Scores of “banana” across all test set (`[0.91599378, 0.49572374, 0.89442719]`)\n",
        "\n",
        "1.  Without Data Leakage:\n",
        "\n",
        "-   **Training Set Scores:** Scores of “banana” across all train set (`[0.0,0.0,0.74230628,0.0]`)\n",
        "\n",
        "-   **Test Set Scores:** Scores of “banana” across all test set (`[0.9526607,0.61666846,0.9526607]`)\n",
        "\n",
        "-   **Explanation (Data Leakage Effect):** When TF-IDF is computed with data leakage (on the whole dataset before splitting), the IDF value for “banana” is influenced by its presence in both the training and test sets. Since “banana” is more frequent in the test set, its importance (TF-IDF score) in the test set is not as high as it would be if the IDF was calculated on the training data alone. This is because the IDF is lower (indicating more common) when considering the whole dataset, thus reducing the overall TF-IDF score for “banana” in the test set.\n",
        "\n",
        "-   **Explanation (No Data Leakage Effect):** When TF-IDF is computed without data leakage (on the training set only), the IDF value is calculated based solely on the word’s frequency in the training set. Because “banana” is less frequent in the training set than it is in the full dataset (or the test set), its IDF value is higher. This results in higher TF-IDF scores in both the training and test sets when the test set is transformed using the training-based TF-IDF vectorizer. The higher IDF value (due to “banana” being less common in training data alone) emphasizes “banana” more in the test set when calculated correctly without data leakage.\n",
        "\n",
        "*In this case data leakage is caused lower accuracy than the correct one.*"
      ],
      "id": "f96ab4a9-43e5-4296-a675-f9586d2cba92"
    },
    {
      "cell_type": "markdown",
      "metadata": {
        "id": "0777df45-4356-4a07-8bc0-c99d45c39d13"
      },
      "source": [
        "#### Case 2 : Word is More Frequent in the Training Set and Less Frequent in the Test Set"
      ],
      "id": "0777df45-4356-4a07-8bc0-c99d45c39d13"
    },
    {
      "cell_type": "code",
      "execution_count": null,
      "metadata": {
        "id": "2592c7c3-9a57-4981-99d9-97c2a4027006"
      },
      "outputs": [],
      "source": [
        "from sklearn.feature_extraction.text import TfidfVectorizer\n",
        "import numpy as np\n",
        "\n",
        "# Define the training and test documents\n",
        "train_docs = ['apple apple orange',\n",
        " 'apple banana banana',\n",
        " 'banana banana apple',\n",
        " 'banana apple apple'\n",
        "]\n",
        "train_labels = [0, 1, 1, 1]\n",
        "test_docs = ['apple apple orange orange', 'banana apple orange', 'orange orange apple']\n",
        "test_labels = [0, 1, 0]\n",
        "# Initialize the TF-IDF vectorizer\n",
        "vectorizer_with_leakage = TfidfVectorizer()\n",
        "vectorizer_without_leakage = TfidfVectorizer()\n",
        "\n",
        "# Fit the vectorizer with data leakage (fit on the whole dataset)\n",
        "X_combined = vectorizer_with_leakage.fit_transform(train_docs + test_docs)\n",
        "\n",
        "# Transform the training and test sets separately\n",
        "X_train_leakage = X_combined[:len(train_docs)]\n",
        "X_test_leakage = X_combined[len(train_docs):]\n",
        "\n",
        "# Fit the vectorizer without data leakage (fit on training set only)\n",
        "vectorizer_without_leakage.fit(train_docs)\n",
        "X_train_without_leakage = vectorizer_without_leakage.transform(train_docs)\n",
        "X_test_without_leakage = vectorizer_without_leakage.transform(test_docs)\n",
        "\n",
        "\n",
        "# Compare the TF-IDF scores for the word 'banana' with and without data leakage\n",
        "print(\"With Data Leakage:\")\n",
        "print_tfidf_scores('banana', vectorizer_with_leakage, X_train_leakage, X_test_leakage)\n",
        "\n",
        "from sklearn.neighbors import KNeighborsClassifier\n",
        "clf = KNeighborsClassifier(n_neighbors=1)\n",
        "clf.fit(X_train_leakage, train_labels)\n",
        "preds = clf.predict(X_test_leakage)\n",
        "dist, idx = clf.kneighbors(X_test_leakage)\n",
        "print(\"predictions: \", preds)\n",
        "print(\"True labels: \", np.array(test_labels))\n",
        "print(f\"Accuracy:  {np.mean(preds == np.array(test_labels))*100}%\")\n",
        "\n",
        "print(\"\\nWithout Data Leakage:\")\n",
        "print_tfidf_scores('banana', vectorizer_without_leakage, X_train_without_leakage, X_test_without_leakage)\n",
        "\n",
        "clf = KNeighborsClassifier(n_neighbors=1)\n",
        "clf.fit(X_train_without_leakage, train_labels)\n",
        "preds = clf.predict(X_test_without_leakage)\n",
        "dist, idx = clf.kneighbors(X_test_without_leakage)\n",
        "print(\"predictions: \", preds)\n",
        "print(\"True labels: \", np.array(test_labels))\n",
        "print(f\"Accuracy:  {np.mean(preds == np.array(test_labels))*100}%\")"
      ],
      "id": "2592c7c3-9a57-4981-99d9-97c2a4027006"
    },
    {
      "cell_type": "markdown",
      "metadata": {
        "id": "ed70255d-2df5-4a8f-8ef7-21ecbab168f7"
      },
      "source": [
        "##### Analysis of the Results\n",
        "\n",
        "1.  With Data Leakage:\n",
        "\n",
        "-   **Training Set Scores:** Scores of “banana” across all train set (`[0.0, 0.94673372, 0.94673372, 0.59223757]`)\n",
        "\n",
        "-   **Test Set Scores:** Scores of “banana” across all test set (`[0.0, 0.63721833, 0.0]`)\n",
        "\n",
        "1.  Without Data Leakage:\n",
        "\n",
        "-   **Training Set Scores:** Scores of “banana” across all train set (`[0.0, 0.92564688, 0.92564688, 0.52173612]`)\n",
        "\n",
        "-   **Test Set Scores:** Scores of “banana” across all test set (`[0.0, 0.49248889, 0.0]`)\n",
        "\n",
        "-   **Explanation (Data Leakage Effect):** Since “banana” is less frequent in the test set, its importance (TF-IDF score) in the test set is higher as it would be if the IDF was calculated on the training data alone. This is because the IDF is greater (indicating more common) when considering the whole dataset, thus increasing the overall TF-IDF score for “banana” in the test set.\n",
        "\n",
        "-   **Explanation (No Data Leakage Effect):** Because “banana” is more frequent in the training set than it is in the full dataset (or the test set), its IDF value is lower. This results in lower TF-IDF scores in both the training and test sets when the test set is transformed using the training-based TF-IDF vectorizer. The lower IDF value (due to “banana” being more common in training data alone) emphasizes “banana” less in the test set when calculated correctly without data leakage.\n",
        "\n",
        "*In this case data leakage is caused higher accuracy than the correct one.*"
      ],
      "id": "ed70255d-2df5-4a8f-8ef7-21ecbab168f7"
    },
    {
      "cell_type": "markdown",
      "metadata": {
        "id": "bb99075b-1aa2-4b1b-8ddb-9ac53c203171"
      },
      "source": [
        "### Tweakable Toy Example"
      ],
      "id": "bb99075b-1aa2-4b1b-8ddb-9ac53c203171"
    },
    {
      "cell_type": "code",
      "execution_count": null,
      "metadata": {
        "id": "788f58db-6b57-4969-81d6-5dd43bb32eb5"
      },
      "outputs": [],
      "source": [
        "import numpy as np\n",
        "from sklearn.feature_extraction.text import TfidfVectorizer\n",
        "from sklearn.neighbors import KNeighborsClassifier\n",
        "import random\n",
        "\n",
        "# Set the seed for reproducibility\n",
        "random.seed(50)\n",
        "np.random.seed(50)\n",
        "\n",
        "# Function to generate random sentences\n",
        "def generate_sentences(vocab, num_sentences, sentence_length, target_word, target_word_frequency):\n",
        "    sentences = []\n",
        "    for _ in range(num_sentences):\n",
        "        sentence = random.choices(vocab, k=sentence_length)\n",
        "        # Add the target word to the sentence based on the specified frequency\n",
        "        if random.random() < target_word_frequency:\n",
        "            sentence[random.randint(0, sentence_length - 1)] = target_word\n",
        "        sentences.append(' '.join(sentence))\n",
        "    return sentences\n",
        "\n",
        "# Define vocabulary and parameters\n",
        "vocab = [\n",
        "    \"banana\",  \"calculator\", \"albatross\", \"dolphin\", \"envelope\", \"forest\",\n",
        "    \"galaxy\", \"hammock\", \"iceberg\", \"jigsaw\", \"kaleidoscope\", \"labyrinth\",\n",
        "    \"magnolia\", \"nebula\", \"oasis\", \"parrot\", \"quasar\", \"raspberry\",\n",
        "    \"sunflower\", \"trapeze\", \"umbrella\", \"volcano\", \"waterfall\", \"xylophone\",\n",
        "    \"yodel\", \"zephyr\", \"apricot\", \"bumblebee\", \"candelabra\", \"dragonfly\",\n",
        "    \"eucalyptus\", \"feather\", \"giraffe\", \"hyacinth\", \"iguana\", \"jasmine\",\n",
        "    \"kiwi\", \"lantern\", \"mermaid\", \"nutmeg\"\n",
        "]\n",
        "\n",
        "# Function to print TF-IDF scores for a given word\n",
        "def print_tfidf_scores(word, vectorizer, X_train, X_test):\n",
        "    word_index = vectorizer.vocabulary_.get(word)\n",
        "    if word_index is not None:\n",
        "        train_scores = X_train[:, word_index].toarray().flatten()\n",
        "        test_scores = X_test[:, word_index].toarray().flatten()\n",
        "        print(f\"Training Set Scores for '{word}':\", train_scores)\n",
        "        print(f\"Test Set Scores for '{word}':\", test_scores)\n",
        "    else:\n",
        "        print(f\"Word '{word}' not found in vocabulary.\")\n",
        "\n",
        "# Train and evaluate KNN classifier\n",
        "def evaluate_classifier(X_train, y_train, X_test, y_test):\n",
        "    clf = KNeighborsClassifier(n_neighbors=1)\n",
        "    clf.fit(X_train, y_train)\n",
        "    preds = clf.predict(X_test)\n",
        "    accuracy = np.mean(preds == y_test) * 100\n",
        "    print(\"Predictions:\", preds)\n",
        "    print(\"True labels:\", np.array(y_test))\n",
        "    print(f\"Accuracy: {accuracy}%\")\n",
        "    return accuracy\n",
        "\n",
        "target_word = 'banana'  # The word that affects the labeling\n",
        "train_sentence_length = 5\n",
        "test_sentence_length = 5"
      ],
      "id": "788f58db-6b57-4969-81d6-5dd43bb32eb5"
    },
    {
      "cell_type": "markdown",
      "metadata": {
        "id": "92f382fe-e54a-438d-b229-e5b0a8cf1120"
      },
      "source": [
        "#### Case 1 : Word is Less Frequent in the Training Set and More Frequent in the Test Set"
      ],
      "id": "92f382fe-e54a-438d-b229-e5b0a8cf1120"
    },
    {
      "cell_type": "code",
      "execution_count": null,
      "metadata": {
        "id": "bfa10ef1-7a5d-479a-8a81-5f879be30d15"
      },
      "outputs": [],
      "source": [
        "# Parameters for training and test set generation\n",
        "num_train_sentences = 20\n",
        "num_test_sentences = 10\n",
        "train_target_word_freq = 0.3  # Frequency of the target word in the training set\n",
        "test_target_word_freq = 0.7  # Frequency of the target word in the test set\n",
        "\n",
        "# Generate training and test sentences\n",
        "train_sentences = generate_sentences(vocab, num_train_sentences, train_sentence_length, target_word, train_target_word_freq)\n",
        "test_sentences = generate_sentences(vocab, num_test_sentences, test_sentence_length, target_word, test_target_word_freq)\n",
        "\n",
        "# Generate labels (1 if target_word exists, 0 otherwise)\n",
        "train_labels = [1 if target_word in sentence else 0 for sentence in train_sentences]\n",
        "test_labels = [1 if target_word in sentence else 0 for sentence in test_sentences]\n",
        "\n",
        "# Initialize TF-IDF vectorizers\n",
        "vectorizer_with_leakage = TfidfVectorizer()\n",
        "vectorizer_without_leakage = TfidfVectorizer()\n",
        "\n",
        "# With data leakage (fitting on both train and test set)\n",
        "X_combined = vectorizer_with_leakage.fit_transform(train_sentences + test_sentences)\n",
        "X_train_leakage = X_combined[:num_train_sentences]\n",
        "X_test_leakage = X_combined[num_train_sentences:]\n",
        "\n",
        "# Without data leakage (fitting on training set only)\n",
        "vectorizer_without_leakage.fit(train_sentences)\n",
        "X_train_without_leakage = vectorizer_without_leakage.transform(train_sentences)\n",
        "X_test_without_leakage = vectorizer_without_leakage.transform(test_sentences)\n",
        "\n",
        "# Check TF-IDF scores for target_word with and without data leakage\n",
        "print(\"With Data Leakage:\")\n",
        "print_tfidf_scores(target_word, vectorizer_with_leakage, X_train_leakage, X_test_leakage)\n",
        "\n",
        "print(\"\\nWithout Data Leakage:\")\n",
        "print_tfidf_scores(target_word, vectorizer_without_leakage, X_train_without_leakage, X_test_without_leakage)\n",
        "\n",
        "\n",
        "print(\"\\nEvaluation with Data Leakage:\")\n",
        "evaluate_classifier(X_train_leakage, train_labels, X_test_leakage, test_labels)\n",
        "\n",
        "print(\"\\nEvaluation without Data Leakage:\")\n",
        "evaluate_classifier(X_train_without_leakage, train_labels, X_test_without_leakage, test_labels)\n",
        "print()"
      ],
      "id": "bfa10ef1-7a5d-479a-8a81-5f879be30d15"
    },
    {
      "cell_type": "markdown",
      "metadata": {
        "id": "e132170b-612e-451e-8e20-bd29231e24d0"
      },
      "source": [
        "#### Case 2 : Word is More Frequent in the Training Set and Less Frequent in the Test Set"
      ],
      "id": "e132170b-612e-451e-8e20-bd29231e24d0"
    },
    {
      "cell_type": "code",
      "execution_count": null,
      "metadata": {
        "id": "8d2056b8-de70-4dba-a0f0-6ef66150c8c8"
      },
      "outputs": [],
      "source": [
        "# Set the seed for reproducibility\n",
        "random.seed(100)\n",
        "np.random.seed(100)\n",
        "\n",
        "# Parameters for training and test set generation\n",
        "num_train_sentences = 50\n",
        "num_test_sentences = 10\n",
        "train_target_word_freq = 0.7  # Frequency of the target word in the training set\n",
        "test_target_word_freq = 0.3  # Frequency of the target word in the test set\n",
        "\n",
        "# Generate training and test sentences\n",
        "train_sentences = generate_sentences(vocab, num_train_sentences, train_sentence_length, target_word, train_target_word_freq)\n",
        "test_sentences = generate_sentences(vocab, num_test_sentences, test_sentence_length, target_word, test_target_word_freq)\n",
        "\n",
        "# Generate labels (1 if target_word exists, 0 otherwise)\n",
        "train_labels = [1 if target_word in sentence else 0 for sentence in train_sentences]\n",
        "test_labels = [1 if target_word in sentence else 0 for sentence in test_sentences]\n",
        "\n",
        "# Initialize TF-IDF vectorizers\n",
        "vectorizer_with_leakage = TfidfVectorizer()\n",
        "vectorizer_without_leakage = TfidfVectorizer()\n",
        "\n",
        "# With data leakage (fitting on both train and test set)\n",
        "X_combined = vectorizer_with_leakage.fit_transform(train_sentences + test_sentences)\n",
        "X_train_leakage = X_combined[:num_train_sentences]\n",
        "X_test_leakage = X_combined[num_train_sentences:]\n",
        "\n",
        "# Without data leakage (fitting on training set only)\n",
        "vectorizer_without_leakage.fit(train_sentences)\n",
        "X_train_without_leakage = vectorizer_without_leakage.transform(train_sentences)\n",
        "X_test_without_leakage = vectorizer_without_leakage.transform(test_sentences)\n",
        "\n",
        "# Check TF-IDF scores for target_word with and without data leakage\n",
        "print(\"With Data Leakage:\")\n",
        "print_tfidf_scores(target_word, vectorizer_with_leakage, X_train_leakage, X_test_leakage)\n",
        "\n",
        "print(\"\\nWithout Data Leakage:\")\n",
        "print_tfidf_scores(target_word, vectorizer_without_leakage, X_train_without_leakage, X_test_without_leakage)\n",
        "\n",
        "\n",
        "print(\"\\nEvaluation with Data Leakage:\")\n",
        "evaluate_classifier(X_train_leakage, train_labels, X_test_leakage, test_labels)\n",
        "\n",
        "print(\"\\nEvaluation without Data Leakage:\")\n",
        "evaluate_classifier(X_train_without_leakage, train_labels, X_test_without_leakage, test_labels)\n",
        "print()"
      ],
      "id": "8d2056b8-de70-4dba-a0f0-6ef66150c8c8"
    }
  ],
  "nbformat": 4,
  "nbformat_minor": 5,
  "metadata": {
    "colab": {
      "provenance": [],
      "include_colab_link": true
    }
  }
}